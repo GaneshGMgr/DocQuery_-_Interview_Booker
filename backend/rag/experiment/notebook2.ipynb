{
 "cells": [
  {
   "cell_type": "markdown",
   "id": "a18babce",
   "metadata": {},
   "source": [
    "```bash\n",
    "# Data will persist inside the container unless you map a local volume\n",
    "\n",
    "docker run -d \\\n",
    "    --name qdrant \\\n",
    "    -p 6333:6333 \\\n",
    "    -p 6334:6334 \\\n",
    "    -v $(pwd)/qdrant_data:/qdrant/storage \\\n",
    "    qdrant/qdrant\n",
    "```\n",
    "# --------------------------------------------\n",
    "\n",
    "# Inside command cell (Windows example with full path volume mapping)\n",
    "\n",
    "docker run -d --name qdrant -p 6333:6333 -p 6334:6334 \\\n",
    "    -v \"C:/Users/ganes_3ck5/DataScience/Gen_AI/Course_GenAI/Gen_AI_In-Depth/GenAI_Course_Work/LangGraph/Langgraph_Tutorial/DocQuery_&_Interview_Booker/qdrant_data:/qdrant/storage\" \\\n",
    "    qdrant/qdrant\n",
    "\n",
    "# Check running containers\n",
    "docker ps\n",
    "\n",
    "# View logs of qdrant container\n",
    "docker logs qdrant"
   ]
  },
  {
   "cell_type": "code",
   "execution_count": 67,
   "id": "fb67915f",
   "metadata": {},
   "outputs": [],
   "source": [
    "# ========== SETUP ==========\n",
    "import re\n",
    "import uuid\n",
    "from unstructured.partition.auto import partition\n",
    "from qdrant_client import QdrantClient, models\n",
    "from sentence_transformers import SentenceTransformer  # Changed import\n",
    "import ollama\n",
    "from langchain_ollama import ChatOllama\n",
    "from datetime import datetime, timezone\n",
    "\n",
    "# Configuration\n",
    "CHUNK_METHODS = [\"sliding\", \"sentence\"]\n",
    "SLIDING_SIZE = 200\n",
    "SLIDING_OVERLAP = 50\n",
    "SENTENCE_MAX = 300\n",
    "MIN_CHUNK = 25\n",
    "\n",
    "EMBEDDING_MODEL = \"BAAI/bge-base-en-v1.5\"  # Official model name\n",
    "LLM_MODEL = \"llama3\"\n",
    "\n",
    "# Initialize clients\n",
    "qdrant = QdrantClient(host=\"localhost\", port=6333)\n",
    "embed_model = SentenceTransformer(EMBEDDING_MODEL)\n",
    "llm = ChatOllama(model=LLM_MODEL)\n"
   ]
  },
  {
   "cell_type": "code",
   "execution_count": 68,
   "id": "a8c2fb24",
   "metadata": {},
   "outputs": [],
   "source": [
    "# print(\"\\nCollections ready:\")\n",
    "# print([coll.name for coll in qdrant.get_collections().collections])\n",
    "\n",
    "# # Cleanup old collections\n",
    "# for coll in qdrant.get_collections().collections:\n",
    "#     if coll.name.startswith((\"rag_data_\", \"raw_data_\")):\n",
    "#         qdrant.delete_collection(coll.name)\n",
    "\n",
    "# print(\"\\nCollections ready:\")\n",
    "# print([coll.name for coll in qdrant.get_collections().collections])"
   ]
  },
  {
   "cell_type": "code",
   "execution_count": 69,
   "id": "834a371b",
   "metadata": {},
   "outputs": [],
   "source": [
    "# ========== TEXT PROCESSING ==========\n",
    "def clean_text(text):\n",
    "    if not text: return \"\"\n",
    "    text = re.sub(r'[^\\w\\s.,;:!?\\'-]', ' ', text)\n",
    "    return re.sub(r'\\s+', ' ', text).strip()\n",
    "\n",
    "def chunk_sentences(text):\n",
    "    text = clean_text(text)\n",
    "    if len(text) < MIN_CHUNK or not any(c.isalpha() for c in text):\n",
    "        return []\n",
    "    \n",
    "    sentences = re.split(r'(?<=[.!?])\\s+', text)\n",
    "    chunks, current = [], \"\"\n",
    "    \n",
    "    for s in sentences:\n",
    "        if len(current) + len(s) <= SENTENCE_MAX:\n",
    "            current += s + \" \"\n",
    "        else:\n",
    "            if current.strip(): chunks.append(current.strip())\n",
    "            current = s + \" \"\n",
    "    \n",
    "    if current.strip(): chunks.append(current.strip())\n",
    "    return chunks\n",
    "\n",
    "def chunk_sliding(text):\n",
    "    text = clean_text(text)\n",
    "    if len(text) < MIN_CHUNK or not any(c.isalpha() for c in text):\n",
    "        return []\n",
    "    \n",
    "    chunks = []\n",
    "    start = 0\n",
    "    while start < len(text):\n",
    "        end = start + SLIDING_SIZE\n",
    "        chunk = text[start:end].strip()\n",
    "        if chunk: chunks.append(chunk)\n",
    "        start += SLIDING_SIZE - SLIDING_OVERLAP\n",
    "    return chunks"
   ]
  },
  {
   "cell_type": "code",
   "execution_count": 70,
   "id": "84ff212e",
   "metadata": {},
   "outputs": [],
   "source": [
    "# ========== DOCUMENT PROCESSING ==========\n",
    "def create_rag_collection(method):\n",
    "    \"\"\"Create fresh Qdrant collection for a chunking method\"\"\"\n",
    "    coll_name = f\"rag_data_{method}\"\n",
    "    \n",
    "    # Delete if collection exists\n",
    "    if qdrant.collection_exists(coll_name):\n",
    "        qdrant.delete_collection(coll_name)\n",
    "    \n",
    "    # Create collection\n",
    "    qdrant.create_collection(\n",
    "        collection_name=coll_name,\n",
    "        vectors_config=models.VectorParams(\n",
    "            size=embed_model.get_sentence_embedding_dimension(),\n",
    "            distance=models.Distance.COSINE\n",
    "        )\n",
    "    )\n",
    "    return coll_name\n",
    "\n",
    "def process_pdf_to_chunks(filepath, method):\n",
    "    elements = partition(filename=filepath, languages=[\"eng\"])\n",
    "    for el in elements:\n",
    "        text = el.text.strip()\n",
    "        \n",
    "        # Metadata extraction — update with real attributes if available in elements\n",
    "        page_num = getattr(el, \"page_number\", \"unknown\")\n",
    "        title = getattr(el, \"heading\", \"unknown\")\n",
    "        section = getattr(el, \"section\", \"unknown\")\n",
    "        author = getattr(el, \"author\", \"unknown\")\n",
    "        processed_at = datetime.now(timezone.utc).isoformat()\n",
    "        \n",
    "        if text:\n",
    "            for chunk in (chunk_sliding(text) if method == \"sliding\" else chunk_sentences(text)):\n",
    "                yield {\n",
    "                    \"chunk\": chunk,\n",
    "                    \"page\": page_num,\n",
    "                    \"title\": title,\n",
    "                    \"section\": section,\n",
    "                    \"author\": author,\n",
    "                    \"processed_at\": processed_at\n",
    "                }\n",
    "\n",
    "def store_chunks(chunks, filepath, method):\n",
    "    \"\"\"Store processed chunks in Qdrant\"\"\"\n",
    "    coll_name = create_rag_collection(method)\n",
    "\n",
    "    # Extract chunk texts to embed\n",
    "    chunk_texts = [c[\"chunk\"] for c in chunks]\n",
    "    embeddings = embed_model.encode(chunk_texts, normalize_embeddings=True)\n",
    "    \n",
    "    points = []\n",
    "    for chunk_data, embedding in zip(chunks, embeddings):\n",
    "        payload = {\n",
    "            \"text\": chunk_data[\"chunk\"],\n",
    "            \"source\": filepath,\n",
    "            \"method\": method,\n",
    "            \"page\": chunk_data.get(\"page\", \"unknown\"),\n",
    "            \"title\": chunk_data.get(\"title\", \"unknown\"),\n",
    "            \"section\": chunk_data.get(\"section\", \"unknown\"),\n",
    "            \"author\": chunk_data.get(\"author\", \"unknown\"),\n",
    "            \"processed_at\": chunk_data.get(\"processed_at\", datetime.now(timezone.utc).isoformat())\n",
    "        }\n",
    "        points.append(\n",
    "            models.PointStruct(\n",
    "                id=str(uuid.uuid4()),\n",
    "                vector=embedding.tolist(),\n",
    "                payload=payload\n",
    "            )\n",
    "        )\n",
    "    \n",
    "    qdrant.upsert(coll_name, points)\n",
    "    return len(points)\n"
   ]
  },
  {
   "cell_type": "code",
   "execution_count": 71,
   "id": "86fc450a",
   "metadata": {},
   "outputs": [],
   "source": [
    "# # ========== PROCESS DOCUMENT ==========\n",
    "# file_path = \"../../../data/files/rag.pdf\"\n",
    "\n",
    "# for method in CHUNK_METHODS:\n",
    "#     chunks = list(process_pdf_to_chunks(file_path, method))  # Use process_pdf_to_chunks\n",
    "#     stored = store_chunks(chunks, file_path, method)  # Use store_chunks\n",
    "#     print(f\"Stored {stored} {method} chunks\")\n",
    "\n",
    "# print(\"\\nCollections ready:\")\n",
    "# print([coll.name for coll in qdrant.get_collections().collections])"
   ]
  },
  {
   "cell_type": "code",
   "execution_count": 81,
   "id": "d05c4316",
   "metadata": {},
   "outputs": [],
   "source": [
    "# ========== QUERY FUNCTIONS ==========\n",
    "def search(query, method=\"sentence\", top_k=3):\n",
    "    embedding = embed_model.encode(query, normalize_embeddings=True).tolist()\n",
    "    \n",
    "    results = qdrant.search(\n",
    "        collection_name=f\"rag_data_{method}\",\n",
    "        query_vector=embedding,\n",
    "        limit=top_k,\n",
    "        with_payload=True\n",
    "    )\n",
    "    # Return payload and similarity score together\n",
    "    return [(hit.payload, hit.score) for hit in results]\n",
    "\n",
    "\n",
    "def ask(query, method=\"sentence\"):\n",
    "    results = search(query, method)\n",
    "    if not results:\n",
    "        return \"No relevant information found.\"\n",
    "\n",
    "    context = \"\\n\".join(f\"- {payload['text']}\" for payload, _ in results)\n",
    "\n",
    "    # prompt = (\n",
    "    #     f\"Based ONLY on the following context, answer the question:\\n{context}\\n\\n\"\n",
    "    #     f\"Question: {query}\\nAnswer:\"\n",
    "    # )\n",
    "    prompt = (\n",
    "        f\"Based ONLY on the following retrieved context, provide the exact information without any modification or added explanation:\\n{context}\\n\\n\"\n",
    "        f\"Question: {query}\\nAnswer:\\n\"\n",
    "        \"(Do not generate or infer answers, only present the retrieved text exactly as it appears.)\"\n",
    "    )\n",
    "    response = llm.invoke(prompt)\n",
    "\n",
    "    print(\"\\n--- Retrieved Chunks Metadata ---\")\n",
    "    for payload, score in results:\n",
    "        print(\n",
    "            f\"Page: {payload.get('page', 'unknown')}, Title: {payload.get('title', 'unknown')}, \"\n",
    "            f\"Section: {payload.get('section', 'unknown')}, Author: {payload.get('author', 'unknown')}, \"\n",
    "            f\"Source: {payload.get('source', 'unknown')}, Similarity: {score:.3f}, \"\n",
    "            f\"Processed At: {payload.get('processed_at', 'unknown')}\"\n",
    "        )\n",
    "\n",
    "    return response.content"
   ]
  },
  {
   "cell_type": "code",
   "execution_count": 89,
   "id": "60f66211",
   "metadata": {},
   "outputs": [],
   "source": [
    "def retrieve_only(query, method=\"sentence\"):\n",
    "    results = search(query, method)\n",
    "    if not results:\n",
    "        return \"No relevant information found.\"\n",
    "\n",
    "    # Unpack payload and score\n",
    "    context = \"\\n\".join(f\"- {payload['text']}\" for payload, _ in results)\n",
    "\n",
    "    print(\"\\n--- Retrieved Chunks Metadata ---\")\n",
    "    for payload, score in results:\n",
    "        print(\n",
    "            f\"Page: {payload.get('page', 'unknown')}, Title: {payload.get('title', 'unknown')}, \"\n",
    "            f\"Section: {payload.get('section', 'unknown')}, Author: {payload.get('author', 'unknown')}, \"\n",
    "            f\"Source: {payload.get('source', 'unknown')}, Similarity: {score:.3f}, \"\n",
    "            f\"Processed At: {payload.get('processed_at', 'unknown')}\"\n",
    "        )\n",
    "\n",
    "    return context\n"
   ]
  },
  {
   "cell_type": "code",
   "execution_count": 90,
   "id": "bc780d66",
   "metadata": {},
   "outputs": [
    {
     "name": "stdout",
     "output_type": "stream",
     "text": [
      "Q: What is Retrieval-Augmented Generation (RAG)?\n",
      "\n",
      "--- Retrieved Chunks Metadata ---\n",
      "Page: unknown, Title: unknown, Section: unknown, Author: unknown, Source: ../../../data/files/rag.pdf, Similarity: 0.892, Processed At: 2025-08-12T12:54:06.649301+00:00\n",
      "Page: unknown, Title: unknown, Section: unknown, Author: unknown, Source: ../../../data/files/rag.pdf, Similarity: 0.887, Processed At: 2025-08-12T12:54:06.656278+00:00\n",
      "Page: unknown, Title: unknown, Section: unknown, Author: unknown, Source: ../../../data/files/rag.pdf, Similarity: 0.886, Processed At: 2025-08-12T12:54:06.649399+00:00\n",
      "A: - arent, untraceable reasoning processes. Retrieval-Augmented Generation RAG has emerged as a promising solution by incorporating knowledge from external databases. This enhances the accuracy and credib\n",
      "- 164 S. Es, J. James, L. Espinosa-Anke, and S. Schockaert, Ragas: Au- tomated evaluation of retrieval augmented generation, arXiv preprint arXiv:2309.15217, 2023.\n",
      "- nations 2 when handling queries beyond their training data or requiring current information. To overcome challenges, Retrieval-Augmented Generation RAG enhances LLMs by retrieving relevant document ch\n"
     ]
    },
    {
     "name": "stderr",
     "output_type": "stream",
     "text": [
      "C:\\Users\\ganes_3ck5\\AppData\\Local\\Temp\\ipykernel_24540\\4102560518.py:5: DeprecationWarning: `search` method is deprecated and will be removed in the future. Use `query_points` instead.\n",
      "  results = qdrant.search(\n"
     ]
    }
   ],
   "source": [
    "# ========== ASK QUESTIONS ==========\n",
    "question = \"What is Retrieval-Augmented Generation (RAG)?\"\n",
    "print(\"Q:\", question)\n",
    "print(\"A:\", retrieve_only(question, method=\"sliding\"))"
   ]
  },
  {
   "cell_type": "code",
   "execution_count": 91,
   "id": "46b73bdb",
   "metadata": {},
   "outputs": [
    {
     "name": "stdout",
     "output_type": "stream",
     "text": [
      "Q: What is Retrieval-Augmented Generation (RAG)?\n"
     ]
    },
    {
     "name": "stderr",
     "output_type": "stream",
     "text": [
      "C:\\Users\\ganes_3ck5\\AppData\\Local\\Temp\\ipykernel_24540\\4102560518.py:5: DeprecationWarning: `search` method is deprecated and will be removed in the future. Use `query_points` instead.\n",
      "  results = qdrant.search(\n"
     ]
    },
    {
     "name": "stdout",
     "output_type": "stream",
     "text": [
      "\n",
      "--- Retrieved Chunks Metadata ---\n",
      "Page: unknown, Title: unknown, Section: unknown, Author: unknown, Source: ../../../data/files/rag.pdf, Similarity: 0.892, Processed At: 2025-08-12T12:54:06.649301+00:00\n",
      "Page: unknown, Title: unknown, Section: unknown, Author: unknown, Source: ../../../data/files/rag.pdf, Similarity: 0.887, Processed At: 2025-08-12T12:54:06.656278+00:00\n",
      "Page: unknown, Title: unknown, Section: unknown, Author: unknown, Source: ../../../data/files/rag.pdf, Similarity: 0.886, Processed At: 2025-08-12T12:54:06.649399+00:00\n",
      "A: Retrieval-Augmented Generation (RAG) has emerged as a promising solution by incorporating knowledge from external databases.\n"
     ]
    }
   ],
   "source": [
    "# ========== ASK QUESTIONS ==========\n",
    "question = \"What is Retrieval-Augmented Generation (RAG)?\"\n",
    "print(\"Q:\", question)\n",
    "print(\"A:\", ask(question, method=\"sliding\"))"
   ]
  },
  {
   "cell_type": "code",
   "execution_count": 79,
   "id": "c613b383",
   "metadata": {},
   "outputs": [
    {
     "name": "stdout",
     "output_type": "stream",
     "text": [
      "Q: What is the main idea of this document?\n"
     ]
    },
    {
     "name": "stderr",
     "output_type": "stream",
     "text": [
      "C:\\Users\\ganes_3ck5\\AppData\\Local\\Temp\\ipykernel_24540\\3001245721.py:5: DeprecationWarning: `search` method is deprecated and will be removed in the future. Use `query_points` instead.\n",
      "  results = qdrant.search(\n"
     ]
    },
    {
     "name": "stdout",
     "output_type": "stream",
     "text": [
      "\n",
      "--- Retrieved Chunks Metadata ---\n",
      "Page: unknown, Title: unknown, Section: unknown, Author: unknown, Source: ../../../data/files/rag.pdf, Similarity: 0.633, Processed At: 2025-08-12T12:54:55.865401+00:00\n",
      "Page: unknown, Title: unknown, Section: unknown, Author: unknown, Source: ../../../data/files/rag.pdf, Similarity: 0.615, Processed At: 2025-08-12T12:54:55.867567+00:00\n",
      "Page: unknown, Title: unknown, Section: unknown, Author: unknown, Source: ../../../data/files/rag.pdf, Similarity: 0.608, Processed At: 2025-08-12T12:54:55.863812+00:00\n",
      "A: Based on the given context, the main idea of this document appears to be a discussion about enhancing information retrieval precision and relevance by using atomic expressions, or propositions, in natural language format.\n"
     ]
    }
   ],
   "source": [
    "# ========== ASK QUESTIONS ==========\n",
    "question = \"What is the main idea of this document?\"\n",
    "print(\"Q:\", question)\n",
    "print(\"A:\", ask(question, method=\"sentence\"))"
   ]
  },
  {
   "cell_type": "code",
   "execution_count": 80,
   "id": "07491631",
   "metadata": {},
   "outputs": [
    {
     "name": "stdout",
     "output_type": "stream",
     "text": [
      "Q: What is Retrieval-Augmented Generation (RAG)?\n"
     ]
    },
    {
     "name": "stderr",
     "output_type": "stream",
     "text": [
      "C:\\Users\\ganes_3ck5\\AppData\\Local\\Temp\\ipykernel_24540\\3001245721.py:5: DeprecationWarning: `search` method is deprecated and will be removed in the future. Use `query_points` instead.\n",
      "  results = qdrant.search(\n"
     ]
    },
    {
     "name": "stdout",
     "output_type": "stream",
     "text": [
      "\n",
      "--- Retrieved Chunks Metadata ---\n",
      "Page: unknown, Title: unknown, Section: unknown, Author: unknown, Source: ../../../data/files/rag.pdf, Similarity: 0.892, Processed At: 2025-08-12T12:54:06.649301+00:00\n",
      "Page: unknown, Title: unknown, Section: unknown, Author: unknown, Source: ../../../data/files/rag.pdf, Similarity: 0.887, Processed At: 2025-08-12T12:54:06.656278+00:00\n",
      "Page: unknown, Title: unknown, Section: unknown, Author: unknown, Source: ../../../data/files/rag.pdf, Similarity: 0.886, Processed At: 2025-08-12T12:54:06.649399+00:00\n",
      "A: Based on the given context, Retrieval-Augmented Generation (RAG) is a solution that incorporates knowledge from external databases to enhance the accuracy and credibility of language models.\n"
     ]
    }
   ],
   "source": [
    "# ========== ASK QUESTIONS ==========\n",
    "question = \"What is Retrieval-Augmented Generation (RAG)?\"\n",
    "print(\"Q:\", question)\n",
    "print(\"A:\", ask(question, method=\"sliding\"))"
   ]
  },
  {
   "cell_type": "code",
   "execution_count": 83,
   "id": "3ce119c3",
   "metadata": {},
   "outputs": [
    {
     "name": "stdout",
     "output_type": "stream",
     "text": [
      "Q: What is Retrieval-Augmented Generation (RAG)?\n"
     ]
    },
    {
     "name": "stderr",
     "output_type": "stream",
     "text": [
      "C:\\Users\\ganes_3ck5\\AppData\\Local\\Temp\\ipykernel_24540\\4102560518.py:5: DeprecationWarning: `search` method is deprecated and will be removed in the future. Use `query_points` instead.\n",
      "  results = qdrant.search(\n"
     ]
    },
    {
     "name": "stdout",
     "output_type": "stream",
     "text": [
      "\n",
      "--- Retrieved Chunks Metadata ---\n",
      "Page: unknown, Title: unknown, Section: unknown, Author: unknown, Source: ../../../data/files/rag.pdf, Similarity: 0.892, Processed At: 2025-08-12T12:54:06.649301+00:00\n",
      "Page: unknown, Title: unknown, Section: unknown, Author: unknown, Source: ../../../data/files/rag.pdf, Similarity: 0.887, Processed At: 2025-08-12T12:54:06.656278+00:00\n",
      "Page: unknown, Title: unknown, Section: unknown, Author: unknown, Source: ../../../data/files/rag.pdf, Similarity: 0.886, Processed At: 2025-08-12T12:54:06.649399+00:00\n",
      "A: Retrieval-Augmented Generation RAG has emerged as a promising solution by incorporating knowledge from external databases.\n"
     ]
    }
   ],
   "source": [
    "# ========== ASK QUESTIONS ==========\n",
    "question = \"What is Retrieval-Augmented Generation (RAG)?\"\n",
    "print(\"Q:\", question)\n",
    "print(\"A:\", ask(question, method=\"sliding\"))"
   ]
  },
  {
   "cell_type": "code",
   "execution_count": 82,
   "id": "4cb7117e",
   "metadata": {},
   "outputs": [
    {
     "name": "stdout",
     "output_type": "stream",
     "text": [
      "Q: What are the key limitations of Large Language Models (LLMs) that RAG aims to address?\n"
     ]
    },
    {
     "name": "stderr",
     "output_type": "stream",
     "text": [
      "C:\\Users\\ganes_3ck5\\AppData\\Local\\Temp\\ipykernel_24540\\4102560518.py:5: DeprecationWarning: `search` method is deprecated and will be removed in the future. Use `query_points` instead.\n",
      "  results = qdrant.search(\n"
     ]
    },
    {
     "name": "stdout",
     "output_type": "stream",
     "text": [
      "\n",
      "--- Retrieved Chunks Metadata ---\n",
      "Page: unknown, Title: unknown, Section: unknown, Author: unknown, Source: ../../../data/files/rag.pdf, Similarity: 0.802, Processed At: 2025-08-12T12:54:55.867815+00:00\n",
      "Page: unknown, Title: unknown, Section: unknown, Author: unknown, Source: ../../../data/files/rag.pdf, Similarity: 0.800, Processed At: 2025-08-12T12:54:55.868229+00:00\n",
      "Page: unknown, Title: unknown, Section: unknown, Author: unknown, Source: ../../../data/files/rag.pdf, Similarity: 0.790, Processed At: 2025-08-12T12:54:55.871262+00:00\n",
      "A: There is no information in the provided context about the key limitations of Large Language Models (LLMs) that RAG aims to address. The text only mentions the benefits of RAG and its applicability to LLMs, but does not discuss the limitations. Therefore, I cannot provide an answer based on this context.\n"
     ]
    }
   ],
   "source": [
    "# ========== ASK QUESTIONS ==========\n",
    "question = \"What are the key limitations of Large Language Models (LLMs) that RAG aims to address?\"\n",
    "print(\"Q:\", question)\n",
    "print(\"A:\", ask(question, method=\"sentence\"))"
   ]
  },
  {
   "cell_type": "code",
   "execution_count": 73,
   "id": "52a1cf51",
   "metadata": {},
   "outputs": [
    {
     "name": "stdout",
     "output_type": "stream",
     "text": [
      "\n",
      "Q: What are the three core components of a RAG framework?\n"
     ]
    },
    {
     "name": "stderr",
     "output_type": "stream",
     "text": [
      "C:\\Users\\ganes_3ck5\\AppData\\Local\\Temp\\ipykernel_24540\\3001245721.py:5: DeprecationWarning: `search` method is deprecated and will be removed in the future. Use `query_points` instead.\n",
      "  results = qdrant.search(\n"
     ]
    },
    {
     "name": "stdout",
     "output_type": "stream",
     "text": [
      "\n",
      "--- Retrieved Chunks Metadata ---\n",
      "Page: unknown, Title: unknown, Section: unknown, Author: unknown, Source: ../../../data/files/rag.pdf, Similarity: 0.827, Processed At: 2025-08-12T12:54:55.863988+00:00\n",
      "Page: unknown, Title: unknown, Section: unknown, Author: unknown, Source: ../../../data/files/rag.pdf, Similarity: 0.815, Processed At: 2025-08-12T12:54:55.868575+00:00\n",
      "Page: unknown, Title: unknown, Section: unknown, Author: unknown, Source: ../../../data/files/rag.pdf, Similarity: 0.809, Processed At: 2025-08-12T12:54:55.864958+00:00\n",
      "A: Based on the provided context, the three core components of a RAG (Reasoning-Augmentation-Generation) framework are:\n",
      "\n",
      "1. Retrieval\n",
      "2. Generation\n",
      "3. Augmentation\n"
     ]
    }
   ],
   "source": [
    "# ========== ASK QUESTIONS ==========\n",
    "question = \"What are the three core components of a RAG framework?\"\n",
    "print(\"\\nQ:\", question)\n",
    "print(\"A:\", ask(question, method=\"sentence\"))"
   ]
  },
  {
   "cell_type": "code",
   "execution_count": 74,
   "id": "ad6dddce",
   "metadata": {},
   "outputs": [
    {
     "name": "stdout",
     "output_type": "stream",
     "text": [
      "\n",
      "Q: What are the three core components of a RAG framework?\n"
     ]
    },
    {
     "name": "stderr",
     "output_type": "stream",
     "text": [
      "C:\\Users\\ganes_3ck5\\AppData\\Local\\Temp\\ipykernel_24540\\3001245721.py:5: DeprecationWarning: `search` method is deprecated and will be removed in the future. Use `query_points` instead.\n",
      "  results = qdrant.search(\n"
     ]
    },
    {
     "name": "stdout",
     "output_type": "stream",
     "text": [
      "\n",
      "--- Retrieved Chunks Metadata ---\n",
      "Page: unknown, Title: unknown, Section: unknown, Author: unknown, Source: ../../../data/files/rag.pdf, Similarity: 0.829, Processed At: 2025-08-12T12:54:06.649731+00:00\n",
      "Page: unknown, Title: unknown, Section: unknown, Author: unknown, Source: ../../../data/files/rag.pdf, Similarity: 0.809, Processed At: 2025-08-12T12:54:06.650648+00:00\n",
      "Page: unknown, Title: unknown, Section: unknown, Author: unknown, Source: ../../../data/files/rag.pdf, Similarity: 0.805, Processed At: 2025-08-12T12:54:06.653831+00:00\n",
      "A: According to the context, the three core components of a RAG (Retrieval-Augmentation-Generation) framework are:\n",
      "\n",
      "1. Retrieval\n",
      "2. Generation\n",
      "3. Augmentation\n"
     ]
    }
   ],
   "source": [
    "# ========== ASK QUESTIONS ==========\n",
    "question = \"What are the three core components of a RAG framework?\"\n",
    "print(\"\\nQ:\", question)\n",
    "print(\"A:\", ask(question, method=\"sliding\"))"
   ]
  },
  {
   "cell_type": "code",
   "execution_count": 75,
   "id": "f977d98c",
   "metadata": {},
   "outputs": [
    {
     "name": "stdout",
     "output_type": "stream",
     "text": [
      "\n",
      "Q: Explain the indexing process in Naive RAG.\n"
     ]
    },
    {
     "name": "stderr",
     "output_type": "stream",
     "text": [
      "C:\\Users\\ganes_3ck5\\AppData\\Local\\Temp\\ipykernel_24540\\3001245721.py:5: DeprecationWarning: `search` method is deprecated and will be removed in the future. Use `query_points` instead.\n",
      "  results = qdrant.search(\n"
     ]
    },
    {
     "name": "stdout",
     "output_type": "stream",
     "text": [
      "\n",
      "--- Retrieved Chunks Metadata ---\n",
      "Page: unknown, Title: unknown, Section: unknown, Author: unknown, Source: ../../../data/files/rag.pdf, Similarity: 0.813, Processed At: 2025-08-12T12:54:55.871102+00:00\n",
      "Page: unknown, Title: unknown, Section: unknown, Author: unknown, Source: ../../../data/files/rag.pdf, Similarity: 0.811, Processed At: 2025-08-12T12:54:55.864070+00:00\n",
      "Page: unknown, Title: unknown, Section: unknown, Author: unknown, Source: ../../../data/files/rag.pdf, Similarity: 0.805, Processed At: 2025-08-12T12:54:55.865663+00:00\n",
      "A: According to the given context, the indexing process in Naive RAG involves:\n",
      "\n",
      "\"Documents are split into chunks, encoded into vectors, and stored in a vector database.\"\n",
      "\n",
      "This is step 1 of the RAG process applied to question answering, as shown in Fig. 2.\n"
     ]
    }
   ],
   "source": [
    "# ========== ASK QUESTIONS ==========\n",
    "question = \"Explain the indexing process in Naive RAG.\"\n",
    "print(\"\\nQ:\", question)\n",
    "print(\"A:\", ask(question, method=\"sentence\"))"
   ]
  },
  {
   "cell_type": "code",
   "execution_count": 76,
   "id": "2b50be92",
   "metadata": {},
   "outputs": [
    {
     "name": "stdout",
     "output_type": "stream",
     "text": [
      "\n",
      "Q: Explain the indexing process in Naive RAG.\n"
     ]
    },
    {
     "name": "stderr",
     "output_type": "stream",
     "text": [
      "C:\\Users\\ganes_3ck5\\AppData\\Local\\Temp\\ipykernel_24540\\3001245721.py:5: DeprecationWarning: `search` method is deprecated and will be removed in the future. Use `query_points` instead.\n",
      "  results = qdrant.search(\n"
     ]
    },
    {
     "name": "stdout",
     "output_type": "stream",
     "text": [
      "\n",
      "--- Retrieved Chunks Metadata ---\n",
      "Page: unknown, Title: unknown, Section: unknown, Author: unknown, Source: ../../../data/files/rag.pdf, Similarity: 0.820, Processed At: 2025-08-12T12:54:06.650008+00:00\n",
      "Page: unknown, Title: unknown, Section: unknown, Author: unknown, Source: ../../../data/files/rag.pdf, Similarity: 0.814, Processed At: 2025-08-12T12:54:06.649809+00:00\n",
      "Page: unknown, Title: unknown, Section: unknown, Author: unknown, Source: ../../../data/files/rag.pdf, Similarity: 0.813, Processed At: 2025-08-12T12:54:06.656252+00:00\n",
      "A: The context does not mention \"Naive RAG\", it only talks about \"Advanced RAG\". Therefore, I cannot provide an answer based on this question as it is asking about a concept that is not present in the given text.\n"
     ]
    }
   ],
   "source": [
    "# ========== ASK QUESTIONS ==========\n",
    "question = \"Explain the indexing process in Naive RAG.\"\n",
    "print(\"\\nQ:\", question)\n",
    "print(\"A:\", ask(question, method=\"sliding\"))"
   ]
  },
  {
   "cell_type": "code",
   "execution_count": 77,
   "id": "3b9918f7",
   "metadata": {},
   "outputs": [
    {
     "name": "stdout",
     "output_type": "stream",
     "text": [
      "\n",
      "Q: What are the key challenges in the retrieval phase of Naive RAG?\n"
     ]
    },
    {
     "name": "stderr",
     "output_type": "stream",
     "text": [
      "C:\\Users\\ganes_3ck5\\AppData\\Local\\Temp\\ipykernel_24540\\3001245721.py:5: DeprecationWarning: `search` method is deprecated and will be removed in the future. Use `query_points` instead.\n",
      "  results = qdrant.search(\n"
     ]
    },
    {
     "name": "stdout",
     "output_type": "stream",
     "text": [
      "\n",
      "--- Retrieved Chunks Metadata ---\n",
      "Page: unknown, Title: unknown, Section: unknown, Author: unknown, Source: ../../../data/files/rag.pdf, Similarity: 0.870, Processed At: 2025-08-12T12:54:55.864831+00:00\n",
      "Page: unknown, Title: unknown, Section: unknown, Author: unknown, Source: ../../../data/files/rag.pdf, Similarity: 0.868, Processed At: 2025-08-12T12:54:55.865663+00:00\n",
      "Page: unknown, Title: unknown, Section: unknown, Author: unknown, Source: ../../../data/files/rag.pdf, Similarity: 0.836, Processed At: 2025-08-12T12:54:55.871102+00:00\n",
      "A: Based on the context, the key challenges in the retrieval phase of Naive RAG are:\n",
      "\n",
      "1. Formulating a precise and clear question (i.e., the original query)\n",
      "2. Retrieving relevant documents from the data source\n"
     ]
    }
   ],
   "source": [
    "# ========== ASK QUESTIONS ==========\n",
    "question = \"What are the key challenges in the retrieval phase of Naive RAG?\"\n",
    "print(\"\\nQ:\", question)\n",
    "print(\"A:\", ask(question, method=\"sentence\"))"
   ]
  },
  {
   "cell_type": "code",
   "execution_count": 78,
   "id": "def56bc4",
   "metadata": {},
   "outputs": [
    {
     "name": "stdout",
     "output_type": "stream",
     "text": [
      "\n",
      "Q: What are the key challenges in the retrieval phase of Naive RAG?\n"
     ]
    },
    {
     "name": "stderr",
     "output_type": "stream",
     "text": [
      "C:\\Users\\ganes_3ck5\\AppData\\Local\\Temp\\ipykernel_24540\\3001245721.py:5: DeprecationWarning: `search` method is deprecated and will be removed in the future. Use `query_points` instead.\n",
      "  results = qdrant.search(\n"
     ]
    },
    {
     "name": "stdout",
     "output_type": "stream",
     "text": [
      "\n",
      "--- Retrieved Chunks Metadata ---\n",
      "Page: unknown, Title: unknown, Section: unknown, Author: unknown, Source: ../../../data/files/rag.pdf, Similarity: 0.875, Processed At: 2025-08-12T12:54:06.651299+00:00\n",
      "Page: unknown, Title: unknown, Section: unknown, Author: unknown, Source: ../../../data/files/rag.pdf, Similarity: 0.875, Processed At: 2025-08-12T12:54:06.650521+00:00\n",
      "Page: unknown, Title: unknown, Section: unknown, Author: unknown, Source: ../../../data/files/rag.pdf, Similarity: 0.840, Processed At: 2025-08-12T12:54:06.650008+00:00\n",
      "A: Based only on the given context, the key challenge in the retrieval phase of Naive RAG is:\n",
      "\n",
      "* Formulating a precise and clear question is difficult.\n",
      "\n",
      "In other words, the main issue with Naive RAG's retrieval phase is that it relies directly on the user's original query, which may be imprecise or unclear.\n"
     ]
    }
   ],
   "source": [
    "# ========== ASK QUESTIONS ==========\n",
    "question = \"What are the key challenges in the retrieval phase of Naive RAG?\"\n",
    "print(\"\\nQ:\", question)\n",
    "print(\"A:\", ask(question, method=\"sliding\"))"
   ]
  },
  {
   "cell_type": "code",
   "execution_count": null,
   "id": "23ecfd13",
   "metadata": {},
   "outputs": [],
   "source": []
  }
 ],
 "metadata": {
  "kernelspec": {
   "display_name": "DocQuery_&_Interview_Booker",
   "language": "python",
   "name": "python3"
  },
  "language_info": {
   "codemirror_mode": {
    "name": "ipython",
    "version": 3
   },
   "file_extension": ".py",
   "mimetype": "text/x-python",
   "name": "python",
   "nbconvert_exporter": "python",
   "pygments_lexer": "ipython3",
   "version": "3.13.5"
  }
 },
 "nbformat": 4,
 "nbformat_minor": 5
}
